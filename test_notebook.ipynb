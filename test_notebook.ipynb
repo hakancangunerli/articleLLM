{
 "cells": [
  {
   "cell_type": "code",
   "execution_count": 6,
   "metadata": {},
   "outputs": [],
   "source": [
    "\n",
    "from langchain.document_loaders import TextLoader\n",
    "from langchain.text_splitter import CharacterTextSplitter\n",
    "from langchain.vectorstores import FAISS\n",
    "from langchain.document_loaders import TextLoader\n",
    "from langchain.embeddings import HuggingFaceEmbeddings\n",
    "from transformers import pipeline, AutoModelForQuestionAnswering, AutoTokenizer\n",
    "from langchain.embeddings.sentence_transformer import SentenceTransformerEmbeddings\n",
    "from langchain.text_splitter import CharacterTextSplitter\n",
    "from langchain.vectorstores import Chroma\n",
    "from langchain.document_loaders import TextLoader\n",
    "\n",
    "import os\n",
    "os.environ['CURL_CA_BUNDLE'] = '' # per https://stackoverflow.com/a/75746105\n",
    "\n",
    "def chatsection(prompt):\n",
    "    raw_documents = TextLoader('test.txt',encoding='utf8').load()\n",
    "    text_splitter = CharacterTextSplitter(chunk_size=2000, chunk_overlap=0)\n",
    "    documents = text_splitter.split_documents(raw_documents)\n",
    "\n",
    "    print(\"calling sentence transformer\")\n",
    "    embedding_function = SentenceTransformerEmbeddings(model_name=\"all-MiniLM-L6-v2\")\n",
    "\n",
    "    print(\"calling database search\")\n",
    "    db = Chroma.from_documents(documents, embedding_function, persist_directory=\"./vectordb\")\n",
    "\n",
    "    query = prompt\n",
    "    #\"What was the US' economy like in 1850?\"\n",
    "    print(\"Conducting similarity search\")\n",
    "    docs = db.similarity_search(query)\n",
    "    # print(docs[0].page_content)\n",
    "\n",
    "    model_name = \"deepset/roberta-base-squad2\"\n",
    "\n",
    "\n",
    "    nlp = pipeline('question-answering', model=model_name, tokenizer=model_name)\n",
    "    QA_input = {\n",
    "        'question': query,\n",
    "        'context': docs[0].page_content\n",
    "    }\n",
    "    res = nlp(QA_input)\n",
    "\n",
    "    # b) Load model & tokenizer\n",
    "    model = AutoModelForQuestionAnswering.from_pretrained(model_name)\n",
    "    tokenizer = AutoTokenizer.from_pretrained(model_name)\n",
    "\n",
    "    print(res)\n",
    "    return res"
   ]
  },
  {
   "cell_type": "code",
   "execution_count": 7,
   "metadata": {},
   "outputs": [],
   "source": [
    "# You can either run this code \n",
    "!streamlit run app.py "
   ]
  }
 ],
 "metadata": {
  "kernelspec": {
   "display_name": "py396",
   "language": "python",
   "name": "python3"
  },
  "language_info": {
   "codemirror_mode": {
    "name": "ipython",
    "version": 3
   },
   "file_extension": ".py",
   "mimetype": "text/x-python",
   "name": "python",
   "nbconvert_exporter": "python",
   "pygments_lexer": "ipython3",
   "version": "3.9.6"
  },
  "orig_nbformat": 4
 },
 "nbformat": 4,
 "nbformat_minor": 2
}
